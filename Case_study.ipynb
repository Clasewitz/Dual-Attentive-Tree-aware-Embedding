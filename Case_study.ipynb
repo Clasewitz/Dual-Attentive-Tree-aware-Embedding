{
 "cells": [
  {
   "cell_type": "markdown",
   "metadata": {},
   "source": [
    "# Customs Frauds Detection with Python\n",
    "\n",
    "## BACUDA Series\n",
    "## How to use DATE for interpretate results\n",
    "\n",
    "### Yu-Che Tsai (roytsai27 @gmail.com), Department of Statistics, National Cheng Kung University\n",
    "\n",
    "## Short Summary\n",
    "> DATE first takes a set of leaf-node from the pre-trained XGBoost classifier as input. <br>\n",
    "It then applies attention mechanism by incorporating the use embedding and HS6 code embedding. <br>\n",
    "The attention mechanism was used to dynamically assign weights to each leaf-node(i.e. cross-features), leaf-nodes with a higher weights means it contribute more to our prediction results.<br>\n",
    "After we trained DATE on a specific dataset, we could feed unseen data and observe the attention distribution to find out which cross-feature contribute more to our prediction.\n",
    "\n",
    "## Requirements\n",
    "* A trained XGBoost classifer, which should be saved aftering training (should be a .txt file).\n",
    "* A trained DATE model, saved with .pkl file.\n",
    "* leaf_index.pickle to be used for projecting leaf-index to tree structure.\n",
    "* Dataset to analysis, could be either training data or test data.\n",
    "\n",
    "## Dataset\n",
    "* The transaction level from Nigera dataset from 2013~2017\n",
    "* Since we have already trained DATE with a set of training data(i.e. 2013 to 2016), we only anaylze the testing set in this notebook.\n",
    "\n",
    "\n",
    "## Guideline\n",
    "1. Load the pre-trained XGBoost Classifier to obtain the leaf-node(cross features).<br>\n",
    "2. Load the trained DATE model\n",
    "3. Convert the dataset into torch tensors \n",
    "4. Use DATE(data) to get prediction outputs\n",
    "4. Since Neural Networks in pytorch are store in python **class** format, we could obtain attention weight by calling \"model.attention_w\" attribute. "
   ]
  },
  {
   "cell_type": "markdown",
   "metadata": {},
   "source": [
    "## Data preparation"
   ]
  },
  {
   "cell_type": "code",
   "execution_count": 1,
   "metadata": {},
   "outputs": [],
   "source": [
    "# load packages\n",
    "import pickle\n",
    "import numpy as np\n",
    "import torch\n",
    "import torch.utils.data as Data\n",
    "import pandas as pd \n",
    "import matplotlib.pyplot as plt "
   ]
  },
  {
   "cell_type": "code",
   "execution_count": 2,
   "metadata": {},
   "outputs": [],
   "source": [
    "# load preprocessed dataset\n",
    "with open(\"./processed_data.pickle\",\"rb\") as f:\n",
    "    processed = pickle.load(f)\n",
    "test = processed[\"raw\"][\"test\"]\n",
    "test = test.reset_index(drop=True) # raw data(test set)"
   ]
  },
  {
   "cell_type": "markdown",
   "metadata": {},
   "source": [
    "### Load DATE model and testing set with torch format\n",
    "Note that the torch_data.pickle file was created by generate_loader.py. <br>\n",
    "Since DATE is implemented pytorch, the input data for DATE should be converted into **torch.tensor**. <br>\n",
    "We use \"dataloader\" in torch to split test data into small batches to avoid memory error(out of memory)."
   ]
  },
  {
   "cell_type": "code",
   "execution_count": 3,
   "metadata": {},
   "outputs": [],
   "source": [
    "# load DATE model\n",
    "model = torch.load(\"./saved_models/DATE_0.7467.pkl\").module\n",
    "\n",
    "# load torch dataset \n",
    "with open(\"../torch_data.pickle\",\"rb\") as f:\n",
    "    data = pickle.load(f)\n",
    "test_dataset = data[\"test_dataset\"]\n",
    "\n",
    "# create dataloader\n",
    "batch_size = 256 # the data size per batch\n",
    "test_loader = Data.DataLoader( # Note that you could iterate dataloader with for loop to obtain batches\n",
    "    dataset=test_dataset,     \n",
    "    batch_size=batch_size,      \n",
    "    shuffle=False,               \n",
    ")"
   ]
  },
  {
   "cell_type": "markdown",
   "metadata": {},
   "source": [
    "### Obtain attention weights for each transaction\n",
    "Each transaction is given as the input for XGBoost model and output the **index** of leaf-nodes.<br>\n",
    "Therfore, if the XGBoost is built with N trees, there would be a list of N index from XGBoost.<br>\n",
    "Based on previous results, DATE further learns attentive weights for each leaf-node(cross-feature).<br>\n",
    "Therefore, there would be N attentive weights given a single transaction with it's corresponding leaf-nodes. Note that the summation of weights is equals 1."
   ]
  },
  {
   "cell_type": "code",
   "execution_count": 4,
   "metadata": {},
   "outputs": [],
   "source": [
    "attention_weight = [] # create a list to store attention weights for each transaction\n",
    "predicted_illicit_prob = []\n",
    "predicted_rev = []\n",
    "device = model.device # the device id of model and data should be consistant\n",
    "\n",
    "# iterate over test data\n",
    "for batch_feature,batch_user,batch_item,batch_cls,batch_reg in test_loader:\n",
    "    model.eval() # this line is to set the model for evaluation stage by stoping some parameters(e.g. dropout)\n",
    "    \n",
    "    # convert the data into same device as our model \n",
    "    batch_feature,batch_user,batch_item,batch_cls,batch_reg =  \\\n",
    "    batch_feature.to(device), batch_user.to(device), batch_item.to(device),\\\n",
    "     batch_cls.to(device), batch_reg.to(device)\n",
    "    batch_cls,batch_reg = batch_cls.view(-1,1), batch_reg.view(-1,1)\n",
    "\n",
    "    # model output\n",
    "    classification_output, regression_output, hidden_vector = model(batch_feature,batch_user,batch_item) # get the prediction output\n",
    "    \n",
    "    # convert torch.tensor to numpy array\n",
    "    classification_output = classification_output.detach().cpu().numpy()\n",
    "    regression_output = regression_output.detach().cpu().numpy()\n",
    "    att_w = model.attention_w.detach().cpu().numpy()\n",
    "    att_w = att_w.reshape(-1,100)\n",
    "    \n",
    "    attention_weight.extend(att_w.tolist())\n",
    "    predicted_illicit_prob.extend(classification_output.ravel().tolist())\n",
    "    predicted_rev.extend(regression_output.ravel().tolist())\n",
    "\n",
    "# conver python list to numpy array\n",
    "attention_weight = np.array(attention_weight)\n",
    "predicted_illicit_prob = np.array(predicted_illicit_prob)\n",
    "predicted_rev = np.array(predicted_rev)"
   ]
  },
  {
   "cell_type": "markdown",
   "metadata": {},
   "source": [
    "###  Averaged attention weight visualization\n",
    "After obtaining attention weights among all of the test set, we could average the weights and observe the distribution of weights."
   ]
  },
  {
   "cell_type": "code",
   "execution_count": 5,
   "metadata": {},
   "outputs": [
    {
     "data": {
      "image/png": "[encoded data removed]",
      "text/plain": [
       "<Figure size 432x288 with 1 Axes>"
      ]
     },
     "metadata": {
      "needs_background": "light"
     },
     "output_type": "display_data"
    }
   ],
   "source": [
    "plt.bar(range(100),attention_weight.mean(axis=0))\n",
    "plt.xlabel(\"Leaf node\")\n",
    "plt.ylabel(\"Weights\")\n",
    "plt.title(\"The averaged attentive weights among all transactions\")\n",
    "plt.show()"
   ]
  },
  {
   "cell_type": "markdown",
   "metadata": {},
   "source": [
    "## Sample transactions\n",
    "Due to the great amount of transactions, we sample 1 licit and 1 illicit transaction for demonstration."
   ]
  },
  {
   "cell_type": "code",
   "execution_count": 6,
   "metadata": {},
   "outputs": [
    {
     "name": "stdout",
     "output_type": "stream",
     "text": [
      "Index of sampled data: 118239\n"
     ]
    }
   ],
   "source": [
    "number_sampled = 1\n",
    "illicit_sample = test[test.illicit==1].sample(number_sampled,random_state=1) # sample from illicit samples\n",
    "transaction_id = illicit_sample.index[0] # get the index of sampled data\n",
    "print(\"Index of sampled data:\",transaction_id)"
   ]
  },
  {
   "cell_type": "code",
   "execution_count": 7,
   "metadata": {},
   "outputs": [
    {
     "data": {
      "text/html": [
       "<div>\n",
       "<style scoped>\n",
       "    .dataframe tbody tr th:only-of-type {\n",
       "        vertical-align: middle;\n",
       "    }\n",
       "\n",
       "    .dataframe tbody tr th {\n",
       "        vertical-align: top;\n",
       "    }\n",
       "\n",
       "    .dataframe thead th {\n",
       "        text-align: right;\n",
       "    }\n",
       "</style>\n",
       "<table border=\"1\" class=\"dataframe\">\n",
       "  <thead>\n",
       "    <tr style=\"text-align: right;\">\n",
       "      <th></th>\n",
       "      <th>YEAR</th>\n",
       "      <th>OFFICE</th>\n",
       "      <th>SGD.NUMBER</th>\n",
       "      <th>SGD.DATE</th>\n",
       "      <th>RECEIPT.NUMBER</th>\n",
       "      <th>RECEIPT.DATE</th>\n",
       "      <th>IMPORTER.TIN</th>\n",
       "      <th>DECLARANT.CODE</th>\n",
       "      <th>FOB.VALUE</th>\n",
       "      <th>CIF.VALUE</th>\n",
       "      <th>...</th>\n",
       "      <th>RiskH.TARIFF.DESCRIPTION</th>\n",
       "      <th>RiskH.TARIFF.CODE</th>\n",
       "      <th>RiskH.QUANTITY</th>\n",
       "      <th>RiskH.HS6</th>\n",
       "      <th>RiskH.HS4</th>\n",
       "      <th>RiskH.HS2</th>\n",
       "      <th>RiskH.OFFICE</th>\n",
       "      <th>RiskH.OFFICE&amp;IMPORTER.TIN</th>\n",
       "      <th>RiskH.OFFICE&amp;HS6</th>\n",
       "      <th>RiskH.OFFICE&amp;ISO3</th>\n",
       "    </tr>\n",
       "  </thead>\n",
       "  <tbody>\n",
       "    <tr>\n",
       "      <th>118239</th>\n",
       "      <td>2017</td>\n",
       "      <td>OFFICE91</td>\n",
       "      <td>SGD922876</td>\n",
       "      <td>17-11-28</td>\n",
       "      <td>RCP916239</td>\n",
       "      <td>17-12-04</td>\n",
       "      <td>IMP600519</td>\n",
       "      <td>DEC685844</td>\n",
       "      <td>7033400.0</td>\n",
       "      <td>8335191.0</td>\n",
       "      <td>...</td>\n",
       "      <td>0</td>\n",
       "      <td>0</td>\n",
       "      <td>0</td>\n",
       "      <td>0</td>\n",
       "      <td>0</td>\n",
       "      <td>0</td>\n",
       "      <td>0</td>\n",
       "      <td>1</td>\n",
       "      <td>0</td>\n",
       "      <td>0</td>\n",
       "    </tr>\n",
       "  </tbody>\n",
       "</table>\n",
       "<p>1 rows × 51 columns</p>\n",
       "</div>"
      ],
      "text/plain": [
       "        YEAR    OFFICE SGD.NUMBER  SGD.DATE RECEIPT.NUMBER RECEIPT.DATE  \\\n",
       "118239  2017  OFFICE91  SGD922876  17-11-28      RCP916239     17-12-04   \n",
       "\n",
       "       IMPORTER.TIN DECLARANT.CODE  FOB.VALUE  CIF.VALUE  ...  \\\n",
       "118239    IMP600519      DEC685844  7033400.0  8335191.0  ...   \n",
       "\n",
       "        RiskH.TARIFF.DESCRIPTION RiskH.TARIFF.CODE  RiskH.QUANTITY  RiskH.HS6  \\\n",
       "118239                         0                 0               0          0   \n",
       "\n",
       "        RiskH.HS4 RiskH.HS2 RiskH.OFFICE  RiskH.OFFICE&IMPORTER.TIN  \\\n",
       "118239          0         0            0                          1   \n",
       "\n",
       "        RiskH.OFFICE&HS6  RiskH.OFFICE&ISO3  \n",
       "118239                 0                  0  \n",
       "\n",
       "[1 rows x 51 columns]"
      ]
     },
     "execution_count": 7,
     "metadata": {},
     "output_type": "execute_result"
    }
   ],
   "source": [
    "illicit_sample"
   ]
  },
  {
   "cell_type": "markdown",
   "metadata": {},
   "source": [
    "### Take a look at the inspection information"
   ]
  },
  {
   "cell_type": "code",
   "execution_count": 8,
   "metadata": {},
   "outputs": [
    {
     "name": "stdout",
     "output_type": "stream",
     "text": [
      "Checking the inspection information of sampled data\n",
      "----------------------------------------------------\n",
      "1.PLS REFER SAD TO SDV VALUATION AFTER EXAMINATION.\r",
      "\r\n",
      "ALERT!!! PLS REFER SGD TO CPC BEFORE RELEASE, WRONG \r",
      "\r\n",
      "CLASSIFICATION SUSPECTED. SYSTEM AUDIT\r",
      "\r\n",
      "2.01X40FT CONT.NO:FSCU9742993,OPENED,EXMD BY 36158 DSC ADEMOLA,W.J & 49812 ASC1 DADA,B.O & FTC:\r",
      "\r\n",
      "250 BALES OF JUTE FIBRE(FILTERS).\r",
      "\r\n",
      "Q&A CPC REFER PLS.\r",
      "\r\n",
      "SDV VALUATION REFERS.\r",
      "\r\n",
      "3.ALERT!!!  BASED ON HQ ALERT OF 29/11/2017, THIS DECLARATION HAS BEEN ALERTED BY SYSTEM AUDIT AS UNDERVALUE, PLEASE REFER SGD TO VALUATION BEFORE RELEASE. (T&T, HQ).\r",
      "\r\n",
      "ADDITIONAL D/N OF =N=219,646 RAISED.\r",
      "\r\n",
      "\r",
      "\r\n",
      "4.D/N CONFIRMED PAID VID DIAMOND REF NO;063041220017012312\r",
      "\r\n",
      "\r",
      "\r\n",
      "5.C/EXAMINER,BASED ON EXAMINATION REPORT & MINUTE 4 ABOVE,YOU MAY PROCEED IF SATISFIED Q&A\r",
      "\r\n",
      "BASED ON THE REPORT ABOVE AND DN PAID.RELEASE AUTHORIZED BY 39268\r",
      "\r\n",
      "AC AGHOLOR A.I\n",
      "----------------------------------------------------\n"
     ]
    }
   ],
   "source": [
    "print(\"Checking the inspection information of sampled data\")\n",
    "print(\"-\"*52)\n",
    "for text in illicit_sample['INSPECTION.INFORMATION'].values:\n",
    "    print(text.strip())\n",
    "    print(\"-\"*52)"
   ]
  },
  {
   "cell_type": "markdown",
   "metadata": {},
   "source": [
    "## Analyze attention weight with XGBoost leaf-nodes"
   ]
  },
  {
   "cell_type": "code",
   "execution_count": 9,
   "metadata": {},
   "outputs": [],
   "source": [
    "# load leaf_index dictionary to project lead-id into XGBoost tree structure\n",
    "with open(\"leaf_index.pickle\",\"rb\") as f:\n",
    "    leaf_index = pickle.load(f)"
   ]
  },
  {
   "cell_type": "code",
   "execution_count": 10,
   "metadata": {},
   "outputs": [
    {
     "name": "stdout",
     "output_type": "stream",
     "text": [
      "Prediction probability:0.9994\n",
      "Trees with the highest attention weights: [98 32 13 12 28]\n",
      "The corresponding index of the leaf node: [1548, 504, 195, 179, 440]\n",
      "The node id in the original XGBoost model: [{98: 20}, {32: 30}, {13: 25}, {12: 23}, {28: 30}]\n"
     ]
    }
   ],
   "source": [
    "# first, take a look at the prediction probability of the transaction\n",
    "print(\"Prediction probability:%.4f\" % predicted_illicit_prob[transaction_id])\n",
    "top_k = 5 # number of cross feature to observe (select top k)\n",
    "test_leaves = test_dataset.tensors[0].numpy() # the leaf index for all transactions\n",
    "tree_id = np.argsort(attention_weight[transaction_id])[-top_k:] # obtain which trees have the hightest weights\n",
    "print(\"Trees with the highest attention weights:\",tree_id)\n",
    "leaf_id = [test_leaves[transaction_id][i] for i in tree_id] # obtain the leaf-id for the trees\n",
    "print(\"The corresponding index of the leaf node:\",leaf_id)\n",
    "\n",
    "# transform the leaf index to the original XGBoost tree structure\n",
    "# Variable leaf_index is a dictionary with {leaf-id: {tree-id,node-id}}\n",
    "xgb_cross_feature = [leaf_index[l] for l in leaf_id] \n",
    "print(\"The node id in the original XGBoost model:\",xgb_cross_feature)"
   ]
  },
  {
   "cell_type": "code",
   "execution_count": 11,
   "metadata": {},
   "outputs": [
    {
     "name": "stdout",
     "output_type": "stream",
     "text": [
      "booster[0]:\n",
      "0:[TaxRatio<0.00182044168] yes=1,no=2,missing=1\n",
      "\t1:[TaxUnitquantity<22.8490429] yes=3,no=4,missing=3\n",
      "\t\t3:[TOTAL.TAXES<6823.5] yes=7,no=8,missing=7\n",
      "\t\t\t7:leaf=0.199860305\n",
      "\t\t\t8:leaf=0.0500000007\n",
      "\t\t4:[RiskH.OFFICE&IMPORTER.TIN<0.5] yes=9,no=10,missing=9\n",
      "\t\t\t9:[EXCHANGERATE<170.26001] yes=15,no=16,missing=15\n",
      "\t\t\t\t15:leaf=-0.162500009\n",
      "\t\t\t\t16:leaf=-0\n",
      "\t\t\t10:[GROSS.WEIGHT<34460] yes=17,no=18,missing=17\n",
      "\t\t\t\t17:leaf=0.150000006\n",
      "\t\t\t\t18:leaf=-0\n",
      "\t2:[RiskH.OFFICE&IMPORTER.TIN<0.5] yes=5,no=6,missing=5\n",
      "\t\t5:[CIF.VALUE<700005.5] yes=11,no=12,missing=11\n",
      "\t\t\t11:[RiskH.OFFICE&HS6<0.5] yes=19,no=20,missing=19\n",
      "\t\t\t\t19:leaf=-0.199470758\n",
      "\t\t\t\t20:leaf=-0.184831649\n",
      "\t\t\t12:[TaxRatio<0.437450051] yes=21,no=22,missing=21\n",
      "\t\t\t\t21:leaf=-0.195282146\n",
      "\t\t\t\t22:leaf=-0.198604077\n",
      "\t\t6:[RiskH.HS6.Origin<0.5] yes=13,no=14,missing=13\n",
      "\t\t\t13:[FOBCIFRatio<0.999917626] yes=23,no=24,missing=23\n",
      "\t\t\t\t23:leaf=-0.171607345\n",
      "\t\t\t\t24:leaf=-0.119938411\n",
      "\t\t\t14:[TaxRatio<0.280007631] yes=25,no=26,missing=25\n",
      "\t\t\t\t25:leaf=-0.0613040626\n",
      "\t\t\t\t26:leaf=-0.1579305\n"
     ]
    }
   ],
   "source": [
    "# read the contents of the file\n",
    "with open('xgb_model2.txt', 'r') as f:\n",
    "    txt_model = f.read()\n",
    "\n",
    "# Note: To maintain the clearness, only print the result for the first tree. Please print the whole text data when analyzing by yourself\n",
    "print(txt_model[:1015]) "
   ]
  },
  {
   "cell_type": "markdown",
   "metadata": {},
   "source": [
    "## Extract dicision path\n",
    "From the previous cell, we could see that the tree structure is revealed. \"**booster[id]**\" denotes the tree id and follows with it's node id of each leaf-node.<br>\n",
    "We have already obtain the leaf-node and their tree-id is [{98: 20}, {32: 30}, {13: 25}, {12: 23}, {28: 30}].<br>\n",
    "Therefore, we would have decision paths for each leaf-node regrarding to the text file."
   ]
  },
  {
   "cell_type": "markdown",
   "metadata": {},
   "source": [
    "Prediction probability:0.9994<br>\n",
    "Trees with the highest attention weights: [98 32 13 12 28]<br>\n",
    "The corresponding index of the leaf node: [1548, 504, 195, 179, 440]<br>\n",
    "The node id in the original XGBoost model: [{98: 20}, {32: 30}, {13: 25}, {12: 23}, {28: 30}]"
   ]
  },
  {
   "cell_type": "markdown",
   "metadata": {},
   "source": [
    "### Decision Paths\n",
    "* Leaf_id: 1548, Tree id: 98, Node id: 20 <br>\n",
    "path: [20<-9<-4<-1<-0] <br>\n",
    "cross feature: RiskH.OFFICE&IMPORTER.TIN>0.5 | TaxRatio<0.111423187 | TaxRatio>0.0686226115 | RiskH.QUANTITY<0.5\n",
    "* Leaf_id: 504, Tree id: 32, Node id:30 <br>\n",
    "path: [30<-14<-6<-2<-0] <br>\n",
    "cross feature: GROSS.WEIGHT>6047.4502 | SGD.DayofYear>460.5 | TaxRatio>0.00499979965 |RiskH.OFFICE&IMPORTER.TIN>0.5\n",
    "* Leaf_id: 195, Tree id: 13, Node id:25 <br>\n",
    "path: [25<-12<-5<-2<-0] <br>\n",
    "cross feature: FOBCIFRatio<0.999917626 | TaxRatio<0.0634894818 | RiskH.HS6.Origin<0.5 | RiskH.OFFICE&IMPORTER.TIN>0.5\n",
    "* Leaf_id: 179, Tree id: 12, Node id:23 <br>\n",
    "path: [23<-12<-5<-2<-0] <br>\n",
    "cross feature: FOBCIFRatio<0.999916792 | RiskH.IMPORTER.TIN>0.5 | RiskH.OFFICE&HS6<0.5 | RiskH.OFFICE&IMPORTER.TIN>0.5\n",
    "* Leaf_id: 440, Tree id: 28, Node id:30 <br>\n",
    "path: [30<-14<-6<-2<-0] <br>\n",
    "cross feature: TARIFF.CODE>2.50100147e+09 | TOTAL.TAXES>20007 | RiskH.DECLARANT.CODE>0.5 | RiskH.OFFICE&IMPORTER.TIN>0.5"
   ]
  }
 ],
 "metadata": {
  "kernelspec": {
   "display_name": "Python 3",
   "language": "python",
   "name": "python3"
  },
  "language_info": {
   "codemirror_mode": {
    "name": "ipython",
    "version": 3
   },
   "file_extension": ".py",
   "mimetype": "text/x-python",
   "name": "python",
   "nbconvert_exporter": "python",
   "pygments_lexer": "ipython3",
   "version": "3.6.9"
  }
 },
 "nbformat": 4,
 "nbformat_minor": 2
}
